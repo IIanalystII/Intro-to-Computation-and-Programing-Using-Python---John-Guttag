{
 "cells": [
  {
   "cell_type": "markdown",
   "metadata": {},
   "source": [
    "# 8.4 - Mortgages, an Extended Example\n",
    "\n",
    "Build a program that examines the costs of three kinds of loans:\n",
    "1. A fixed-rate mortgage with no points\n",
    "2. A fixed-rate mortgage with points\n",
    "3. A mortgage with an initial teaser rate forllowed by a higher rate for the duration."
   ]
  },
  {
   "cell_type": "code",
   "execution_count": 5,
   "metadata": {},
   "outputs": [],
   "source": [
    "'''Code will be structured to include a Mortgage class, and subclasses corresponding to each of the three kinds of mortgages.'''\n",
    "'''The Mortgage class will contain methods that are shared by each of its subclasses, but it is not intended to be instantiated \\\n",
    "directly.'''\n",
    "'''That is, no objects of type Mortgage will be created.'''\n",
    "\n",
    "'''The function findPayment computes the size of the fixed monthly payment needed to pay off the loan, including interest, by the \\\n",
    "end of its term.'''\n",
    "\n",
    "'''For __init__: all Mortgage instance variables: initial loan amount, the monthly interest rate, the duration of the loan in \\\n",
    "months, payment list, etc.'''\n",
    "\n",
    "def findPayment(loan, r, m):\n",
    "    '''Assumes: loan and r are floats, m an int'''\n",
    "    '''Returns the monthly payment for a mortgage of size loan at a monthly rate of r for m months'''\n",
    "    return loan*((r*(1+r)**m) / ((1+r)**m - 1))\n",
    "\n",
    "class Mortgage(object):\n",
    "    '''Abstract class for building different kinds of mortgages'''\n",
    "    def __init__(self, loan, annRate, months):\n",
    "        '''Assumes: loan and annRate are floats, months an int'''\n",
    "        '''Creates a new mortgage of size loan, duration months, and annual annual rate annRate'''\n",
    "        self.loan = loan\n",
    "        self.rate = annRate/12\n",
    "        self.months = months\n",
    "        self.paid = [0.0]\n",
    "        self.outstanding = [loan]\n",
    "        self.payment = findPayment(loan, self.rate, months)\n",
    "        self.legend = None\n",
    "        \n",
    "    def makePayment(self):\n",
    "        '''Make a payment'''\n",
    "        self.paid.append(self.payment)\n",
    "        reduction = self.payment - self.outstanding[-1]*self.rate\n",
    "        self.outstanding.append(self.outstanding[-1] - reduction)\n",
    "        \n",
    "    def getTotalPaid(self):\n",
    "        '''Return the total amount paid so far'''\n",
    "        return sum(self.paid)\n",
    "    \n",
    "    def __str__(self):\n",
    "        return self.legend\n",
    "    \n",
    "class Fixed(Mortgage):\n",
    "    def __init__(self, loan, r, months):\n",
    "        Mortgage.__init__(self, loan, r, months)\n",
    "        self.legend = 'Fixed, ' + str(round(r*100, 2)) + '%'\n",
    "\n",
    "class FixedWithPts(Mortgage):\n",
    "    def __init__(self, loan, r, months, pts):\n",
    "        Mortgage.__init__(self, loan, r, months)\n",
    "        self.pts = pts\n",
    "        self.paid = [loan*(pts/100)]\n",
    "        self.legend = 'Fixed, ' + str(round(r*100, 2)) + '%, ' + str(pts) + ' points'\n",
    "\n",
    "class TwoRate(Mortgage):\n",
    "    def __init__(self, loan, r, months, teaserRate, teaserMonths):\n",
    "        Mortgage.__init__(self, loan, teaserRate, months)\n",
    "        self.teaserMonths = teaserMonths\n",
    "        self.teaserRate = teaserRate\n",
    "        self.nextRate = r/12\n",
    "        self.legend = str(teaserRate*100) + '% for ' + str(self.teaserMonths) + ' months, then ' + str(round(r*100, 2)) + '%'\n",
    "\n",
    "    def makePayment(self):\n",
    "        if len(self.paid) == self.teaserMonths + 1:\n",
    "            self.rate = self.nextRate\n",
    "            self.payment = findPayment(self.outstanding[-1], self.rate, self.months - self.teaserMonths)\n",
    "           \n",
    "        Mortgage.makePayment(self)"
   ]
  },
  {
   "cell_type": "code",
   "execution_count": 2,
   "metadata": {
    "collapsed": true,
    "jupyter": {
     "outputs_hidden": true
    }
   },
   "outputs": [],
   "source": [
    " def compareMortgages(amt, years, fixedRate, pts, ptsRate, varRate1, varRate2, varMonths):\n",
    "        totMonths = years*12\n",
    "        fixed1 = Fixed(amt, fixedRate, totMonths)\n",
    "        fixed2 = FixedWithPts(amt, ptsRate, totMonths, pts)\n",
    "        twoRate = TwoRate(amt, varRate2, totMonths, varRate1, varMonths)\n",
    "        morts = [fixed1, fixed2, twoRate]\n",
    "        for m in range(totMonths):\n",
    "            for mort in morts:\n",
    "                mort.makePayment()\n",
    "        for m in morts:\n",
    "            print(m)\n",
    "            print(' Total payments = $' + str(int(m.getTotalPaid())))\n",
    "            print('')"
   ]
  },
  {
   "cell_type": "code",
   "execution_count": 4,
   "metadata": {},
   "outputs": [
    {
     "name": "stdout",
     "output_type": "stream",
     "text": [
      "Fixed, 7.0%\n",
      " Total payments = $479017\n",
      "\n",
      "Fixed, 5.0%, 3.25 points\n",
      " Total payments = $393011\n",
      "\n",
      "4.5% for 48 months, then 9.5%\n",
      " Total payments = $551444\n",
      "\n"
     ]
    }
   ],
   "source": [
    "compareMortgages(amt = 200000, \n",
    "                 years = 30, \n",
    "                 fixedRate = 0.07, \n",
    "                 pts = 3.25, \n",
    "                 ptsRate = 0.05, \n",
    "                 varRate1 = 0.045, \n",
    "                 varRate2 = 0.095, \n",
    "                 varMonths = 48)"
   ]
  },
  {
   "cell_type": "code",
   "execution_count": null,
   "metadata": {},
   "outputs": [],
   "source": []
  }
 ],
 "metadata": {
  "kernelspec": {
   "display_name": "Python 3",
   "language": "python",
   "name": "python3"
  },
  "language_info": {
   "codemirror_mode": {
    "name": "ipython",
    "version": 3
   },
   "file_extension": ".py",
   "mimetype": "text/x-python",
   "name": "python",
   "nbconvert_exporter": "python",
   "pygments_lexer": "ipython3",
   "version": "3.8.5"
  }
 },
 "nbformat": 4,
 "nbformat_minor": 4
}
