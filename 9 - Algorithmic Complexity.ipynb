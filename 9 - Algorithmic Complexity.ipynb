{
 "cells": [
  {
   "cell_type": "markdown",
   "metadata": {},
   "source": [
    "# A simplistic introduction to alrogrithmic complexity\n",
    "\n",
    "Sometimes the \"performance\" of a program is an important aspect of correctness. E.g. Programs that need to run in real-time.\n",
    "Writing efficient prorams is not easy.\n",
    "The most straight-forward solution is often not the most efficient.\n",
    "Computationally efficient algorithsm often employe subtle tricks that can make them difficult to understand.\n",
    "Consequently, programmers often increase the conceptual complexity of a program in an effort to reduce its computational complexity.\n",
    "To do this in a sensible way we need to understand how to go about estimate the computational complexity of a program.\n",
    "This is the topic of this chapter."
   ]
  },
  {
   "cell_type": "code",
   "execution_count": 12,
   "metadata": {},
   "outputs": [
    {
     "data": {
      "text/plain": [
       "6"
      ]
     },
     "execution_count": 12,
     "metadata": {},
     "output_type": "execute_result"
    }
   ],
   "source": [
    "'''How long will the following function take to run?'''\n",
    "\n",
    "'''basic, iterative factorial function'''\n",
    "def f(i):\n",
    "    '''Assumes i is an int and i>=0'''\n",
    "    answer = 1\n",
    "    while i >= 1:\n",
    "        answer *= i\n",
    "        i -= 1\n",
    "    return answer\n",
    "\n",
    "f(3)"
   ]
  },
  {
   "cell_type": "markdown",
   "metadata": {},
   "source": [
    "We could run the program on some input and time it. But that wouldn't be particularly informative because the result would depennd upon\n",
    "1. the speed of the computer on which it is run,\n",
    "2. the efficiency of the Python implementation on that machine, and\n",
    "3. the value of the input.\n",
    "\n",
    "We get around the first two issues by using a more abstract measure of time. INstead of measuring time in milliseconds, we measure time in terms of the number of basic steps executed by the program.\n",
    "For simplicity, we will use a random access machine as our model of computation.\n",
    "In a random access machine, steps are executed sequentially, one at a time. A step is an operation that takes a fixed amount of time, such as bind a variable to an object, making a comparison, executing an arithmetic operation, or accessing an object in memory.\n",
    "\n",
    "Now that we have a more abstract way to think about the meaning of time, we turn to the question of dependence on the value of the input. We del with that by moving away from expressing time complexity as a single number and instead relating it to the sizes of the inputs. This allows us to compare the efficiency of two algorithms by talking about about how the tunrning time of each grows with respect to the sizes of the inputs.\n",
    "\n",
    "Of course, the actual running time of an algorithm depends not only upon the sizes of the inputs but also upon their values. Consider, for example, the linear search algorithm implemented by:"
   ]
  },
  {
   "cell_type": "code",
   "execution_count": 13,
   "metadata": {},
   "outputs": [],
   "source": [
    "def linearSearch(L, x):\n",
    "    for e in L:\n",
    "        if e == x:\n",
    "            return True\n",
    "    return False"
   ]
  },
  {
   "cell_type": "markdown",
   "metadata": {},
   "source": [
    "Suppose that L is a list contiaining a million elements, and consider the call linearSearch(L, 3). If the first elementin in L is 3, linearSearch will return True almost immediately. On the other hand, if 3 is not in L, linearSearch will have to examine all one million elements before returning False.\n",
    "   \n",
    "   In general, there are three broad cases to think about:\n",
    "   \n",
    "1. Best-Case Running Time means the minimum running time over all the possible inputs of a given size. For linearSearch, the best-case running time is indepenedent of the size of L because the result may be in the first position.\n",
    "2. Worst-Case running time is the maximum running time over all the possible inputs of a given size. For linearSearch, the worst-case running time is linear in the size of L.\n",
    "3. Average-case running time is the average running time over all possible inputs of a given size. Alternatively, if one has some a priori information about the distribution of the input values (e.g., that 90% of the time x is in L), one can take that into account.\n",
    "\n",
    "People usually focus on the worst-case. All engineers share a common article of faith: Murphy's Law: If something can go wrong, it will go wrong. The worst-case provides and UPPER BOUND on the running time. This is critical in situations where there is a time constraint on how long a computation can take. It is not good enough to know that \"most of the time\" the air traffic control system warns of impending collisions before they occur.\n",
    "\n",
    "Let's look at the worst-case running time of an iterative implementation fo the factorial function:"
   ]
  },
  {
   "cell_type": "code",
   "execution_count": 14,
   "metadata": {},
   "outputs": [],
   "source": [
    "def fact(n):\n",
    "    '''Assumes n is a natural number'''\n",
    "    '''Returns n!'''\n",
    "    answer = 1\n",
    "    while n > 1:\n",
    "        answer *= n\n",
    "        n -= 1\n",
    "    return answer"
   ]
  },
  {
   "cell_type": "markdown",
   "metadata": {},
   "source": [
    "The number of steps required to run this program is something like: \n",
    "2 (1 for the initial assignment and 1 for the return) \n",
    "'+ 5n (counting 1 step for the test in the while, 2 steps for the first assignment statementin the while loop, and 2 steps for the second assignment statement in the while loop)\n",
    "So, for example, if n is 10000, the function will execute roughly 5002 steps.\n",
    "\n",
    "It should be immediately obvious that as n gets large, worrying about the difference between 5n and 5n + 2 is kind of silly.\n",
    "For this reason, we typically ignore  additive constants when reasoning about running time.\n",
    "Multiplicative constants are more problematic. Should we care whether the computation takes 1000 steps or 5000 steps?\n",
    "Multiplicative factors can be important. Whether a search eengine takes a half second or 2.5 seconds to service a query can be the difference between whether people\n",
    "use that search engine or go to a competitor.\n",
    "\n",
    "On the other hand, when one is comparing two different algorithms, it is oftent he case that even multiplicative constants are irrelevant. Consider EXHAUSTIVE ENUMERATION and BISECTION SEARCH algorithms for finding an approximation to the square root of a floating point number."
   ]
  },
  {
   "cell_type": "code",
   "execution_count": 1,
   "metadata": {},
   "outputs": [],
   "source": [
    "'''This version is imprctical: evaluating at 100, 0.0001 would require roughly one billion iterations of the while loop.'''\n",
    "def squareRootExhaustive(x, epsilon):\n",
    "    '''Assumes x and epsilon are positive floats & epsilon < 1'''\n",
    "    '''Returns a y such that y*y is within epsilong of x'''\n",
    "    step = epsilon**2\n",
    "    ans = 0.0\n",
    "    while abs(ans**2 - x) >= epsilon and ans*ans <= x:\n",
    "        ans += step\n",
    "    if ans*ans > x:\n",
    "        raise ValueError\n",
    "    return ans"
   ]
  },
  {
   "cell_type": "code",
   "execution_count": 20,
   "metadata": {},
   "outputs": [],
   "source": [
    "'''Much better version: evaluating at 100, 0.001 requires only twenty iterations of a slightly more complex while loop.'''\n",
    "def squareRootBi(x, epsilon):\n",
    "    '''Asumes x and epsilon are positive floats & epsilon < 1'''\n",
    "    '''Returns a y such that y*y is within epsilon of x'''\n",
    "    low = 0.0\n",
    "    high = max(1.0, x)\n",
    "    ans = (high + low)/2.0\n",
    "    while abs(ans**2 - x) >= epsilon:\n",
    "        if ans**2 < x:\n",
    "            low = ans\n",
    "        else:\n",
    "            high = ans\n",
    "        ans = (high + low) / 2.0\n",
    "        \n",
    "    return ans"
   ]
  },
  {
   "cell_type": "code",
   "execution_count": 21,
   "metadata": {},
   "outputs": [
    {
     "data": {
      "text/plain": [
       "142370.8494109969"
      ]
     },
     "execution_count": 21,
     "metadata": {},
     "output_type": "execute_result"
    }
   ],
   "source": [
    "squareRootBi(20269458762,0.01)"
   ]
  },
  {
   "cell_type": "code",
   "execution_count": null,
   "metadata": {},
   "outputs": [],
   "source": []
  }
 ],
 "metadata": {
  "kernelspec": {
   "display_name": "Python 3",
   "language": "python",
   "name": "python3"
  },
  "language_info": {
   "codemirror_mode": {
    "name": "ipython",
    "version": 3
   },
   "file_extension": ".py",
   "mimetype": "text/x-python",
   "name": "python",
   "nbconvert_exporter": "python",
   "pygments_lexer": "ipython3",
   "version": "3.8.5"
  }
 },
 "nbformat": 4,
 "nbformat_minor": 4
}
